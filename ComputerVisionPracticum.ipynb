{
  "cells": [
    {
      "cell_type": "markdown",
      "metadata": {
        "id": "view-in-github",
        "colab_type": "text"
      },
      "source": [
        "<a href=\"https://colab.research.google.com/github/hibatallahk/ComputerVisionPracticum/blob/main/ComputerVisionPracticum.ipynb\" target=\"_parent\"><img src=\"https://colab.research.google.com/assets/colab-badge.svg\" alt=\"Open In Colab\"/></a>"
      ]
    },
    {
      "cell_type": "markdown",
      "metadata": {
        "deletable": false,
        "editable": false,
        "tags": [
          "df89053c-55da-4946-b602-c3baf619b53f"
        ],
        "id": "nTr0xWqsOVPE"
      },
      "source": [
        "## Initialization"
      ]
    },
    {
      "cell_type": "markdown",
      "metadata": {
        "id": "B6KZ85C4OVPK"
      },
      "source": [
        "## Load Data"
      ]
    },
    {
      "cell_type": "markdown",
      "metadata": {
        "id": "2RqjOSF7OVPL"
      },
      "source": [
        "The dataset is stored in the `/datasets/faces/` folder, there you can find\n",
        "- The `final_files` folder with 7.6k photos\n",
        "- The `labels.csv` file with labels, with two columns: `file_name` and `real_age`\n",
        "\n",
        "Given the fact that the number of image files is rather high, it is advisable to avoid reading them all at once, which would greatly consume computational resources. We recommend you build a generator with the ImageDataGenerator generator. This method was explained in Chapter 3, Lesson 7 of this course.\n",
        "\n",
        "The label file can be loaded as an usual CSV file."
      ]
    },
    {
      "cell_type": "code",
      "execution_count": null,
      "metadata": {
        "id": "f8Qq7aBoOVPM"
      },
      "outputs": [],
      "source": [
        ""
      ]
    },
    {
      "cell_type": "markdown",
      "metadata": {
        "id": "TfO_nJNwOVPN"
      },
      "source": [
        "## EDA"
      ]
    },
    {
      "cell_type": "code",
      "execution_count": null,
      "metadata": {
        "id": "If7D2amLOVPN"
      },
      "outputs": [],
      "source": [
        ""
      ]
    },
    {
      "cell_type": "markdown",
      "metadata": {
        "id": "O1TyVpWGOVPO"
      },
      "source": [
        "### Findings"
      ]
    },
    {
      "cell_type": "code",
      "execution_count": null,
      "metadata": {
        "id": "7gVAVH6XOVPO"
      },
      "outputs": [],
      "source": [
        ""
      ]
    },
    {
      "cell_type": "markdown",
      "metadata": {
        "id": "P9wkF8YyOVPP"
      },
      "source": [
        "## Modelling"
      ]
    },
    {
      "cell_type": "markdown",
      "metadata": {
        "id": "B54Bn1g0OVPP"
      },
      "source": [
        "Define the necessary functions to train your model on the GPU platform and build a single script containing all of them along with the initialization section.\n",
        "\n",
        "To make this task easier, you can define them in this notebook and run a ready code in the next section to automatically compose the script.\n",
        "\n",
        "The definitions below will be checked by project reviewers as well, so that they can understand how you built the model."
      ]
    },
    {
      "cell_type": "code",
      "execution_count": 1,
      "metadata": {
        "id": "-4Tb_rzpOVPQ"
      },
      "outputs": [],
      "source": [
        "import pandas as pd\n",
        "\n",
        "import tensorflow as tf\n",
        "\n",
        "from tensorflow.keras.preprocessing.image import ImageDataGenerator\n",
        "from tensorflow.keras.applications.resnet import ResNet50\n",
        "from tensorflow.keras.models import Sequential\n",
        "from tensorflow.keras.layers import GlobalAveragePooling2D, Dense, Dropout, Flatten\n",
        "from tensorflow.keras.optimizers import Adam"
      ]
    },
    {
      "cell_type": "code",
      "execution_count": 2,
      "metadata": {
        "id": "m-AcKjxSOVPR"
      },
      "outputs": [],
      "source": [
        "def load_train(path):\n",
        "    \n",
        "    \"\"\"\n",
        "    It loads the train part of dataset from path\n",
        "    \"\"\"\n",
        "    \n",
        "    # place your code here\n",
        "\n",
        "    return train_gen_flow"
      ]
    },
    {
      "cell_type": "code",
      "execution_count": 3,
      "metadata": {
        "id": "dU04mU0vOVPS"
      },
      "outputs": [],
      "source": [
        "def load_test(path):\n",
        "    \n",
        "    \"\"\"\n",
        "    It loads the validation/test part of dataset from path\n",
        "    \"\"\"\n",
        "    \n",
        "    # place your code here\n",
        "\n",
        "    return test_gen_flow"
      ]
    },
    {
      "cell_type": "code",
      "execution_count": 4,
      "metadata": {
        "id": "EFwa7NGgOVPT"
      },
      "outputs": [],
      "source": [
        "def create_model(input_shape):\n",
        "    \n",
        "    \"\"\"\n",
        "    It defines the model\n",
        "    \"\"\"\n",
        "    \n",
        "    # place your code here\n",
        "\n",
        "    return model"
      ]
    },
    {
      "cell_type": "code",
      "execution_count": 5,
      "metadata": {
        "id": "ppdyht65OVPT"
      },
      "outputs": [],
      "source": [
        "def train_model(model, train_data, test_data, batch_size=None, epochs=20,\n",
        "                steps_per_epoch=None, validation_steps=None):\n",
        "\n",
        "    \"\"\"\n",
        "    Trains the model given the parameters\n",
        "    \"\"\"\n",
        "    \n",
        "    # place your code here\n",
        "\n",
        "    return model"
      ]
    },
    {
      "cell_type": "markdown",
      "metadata": {
        "id": "ddOn3WZQOVPU"
      },
      "source": [
        "### Prepare the Script to Run on the GPU Platform"
      ]
    },
    {
      "cell_type": "markdown",
      "metadata": {
        "id": "htNcFzkFOVPU"
      },
      "source": [
        "Given you've defined the necessary functions you can compose a script for the GPU platform, download it via the \"File|Open...\" menu, and to upload it later for running on the GPU platform.\n",
        "\n",
        "N.B.: The script should include the initialization section as well. An example of this is shown below."
      ]
    },
    {
      "cell_type": "code",
      "execution_count": 6,
      "metadata": {
        "id": "zMZUiQIoOVPU"
      },
      "outputs": [],
      "source": [
        "# prepare a script to run on the GPU platform\n",
        "\n",
        "init_str = \"\"\"\n",
        "import pandas as pd\n",
        "\n",
        "import tensorflow as tf\n",
        "\n",
        "from tensorflow.keras.preprocessing.image import ImageDataGenerator\n",
        "from tensorflow.keras.applications.resnet import ResNet50\n",
        "from tensorflow.keras.models import Sequential\n",
        "from tensorflow.keras.layers import GlobalAveragePooling2D, Dense, Dropout, Flatten\n",
        "from tensorflow.keras.optimizers import Adam\n",
        "\"\"\"\n",
        "\n",
        "import inspect\n",
        "\n",
        "with open('run_model_on_gpu.py', 'w') as f:\n",
        "    \n",
        "    f.write(init_str)\n",
        "    f.write('\\n\\n')\n",
        "        \n",
        "    for fn_name in [load_train, load_test, create_model, train_model]:\n",
        "        \n",
        "        src = inspect.getsource(fn_name)\n",
        "        f.write(src)\n",
        "        f.write('\\n\\n')"
      ]
    },
    {
      "cell_type": "markdown",
      "metadata": {
        "id": "aOvQF4jtOVPV"
      },
      "source": [
        "### Output"
      ]
    },
    {
      "cell_type": "markdown",
      "metadata": {
        "id": "fX-F51nlOVPV"
      },
      "source": [
        "Place the output from the GPU platform as an Markdown cell here."
      ]
    },
    {
      "cell_type": "code",
      "execution_count": 6,
      "metadata": {
        "id": "RSabLUK6OVPV"
      },
      "outputs": [],
      "source": [
        ""
      ]
    },
    {
      "cell_type": "markdown",
      "metadata": {
        "id": "j5TgC36iOVPW"
      },
      "source": [
        "## Conclusions"
      ]
    },
    {
      "cell_type": "code",
      "execution_count": 6,
      "metadata": {
        "id": "TgXzM7UAOVPW"
      },
      "outputs": [],
      "source": [
        ""
      ]
    },
    {
      "cell_type": "markdown",
      "metadata": {
        "id": "9ezXlIXEOVPW"
      },
      "source": [
        "# Checklist"
      ]
    },
    {
      "cell_type": "markdown",
      "metadata": {
        "id": "hx1o-cYWOVPW"
      },
      "source": [
        "- [ ]  Notebook was opened\n",
        "- [ ]  The code is error free\n",
        "- [ ]  The cells with code have been arranged by order of execution\n",
        "- [ ]  The exploratory data analysis has been performed\n",
        "- [ ]  The results of the exploratory data analysis are presented in the final notebook\n",
        "- [ ]  The model's MAE score is not higher than 8\n",
        "- [ ]  The model training code has been copied to the final notebook\n",
        "- [ ]  The model training output has been copied to the final notebook\n",
        "- [ ]  The findings have been provided based on the results of the model training"
      ]
    },
    {
      "cell_type": "code",
      "execution_count": 6,
      "metadata": {
        "id": "lGjKBvhtOVPX"
      },
      "outputs": [],
      "source": [
        ""
      ]
    }
  ],
  "metadata": {
    "kernelspec": {
      "display_name": "Python 3",
      "language": "python",
      "name": "python3"
    },
    "language_info": {
      "codemirror_mode": {
        "name": "ipython",
        "version": 3
      },
      "file_extension": ".py",
      "mimetype": "text/x-python",
      "name": "python",
      "nbconvert_exporter": "python",
      "pygments_lexer": "ipython3",
      "version": "3.7.8"
    },
    "toc": {
      "base_numbering": 1,
      "nav_menu": {},
      "number_sections": true,
      "sideBar": true,
      "skip_h1_title": true,
      "title_cell": "Table of Contents",
      "title_sidebar": "Contents",
      "toc_cell": false,
      "toc_position": {},
      "toc_section_display": true,
      "toc_window_display": false
    },
    "colab": {
      "name": "ComputerVisionPracticum.ipynb",
      "provenance": [],
      "include_colab_link": true
    }
  },
  "nbformat": 4,
  "nbformat_minor": 0
}