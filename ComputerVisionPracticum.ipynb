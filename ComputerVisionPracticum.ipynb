{
  "nbformat": 4,
  "nbformat_minor": 0,
  "metadata": {
    "colab": {
      "name": "ComputerVisionPracticum.ipynb",
      "provenance": [],
      "authorship_tag": "ABX9TyMAZpq7c6p8Yi4rZ7p5h5hW",
      "include_colab_link": true
    },
    "kernelspec": {
      "name": "python3",
      "display_name": "Python 3"
    },
    "language_info": {
      "name": "python"
    }
  },
  "cells": [
    {
      "cell_type": "markdown",
      "metadata": {
        "id": "view-in-github",
        "colab_type": "text"
      },
      "source": [
        "<a href=\"https://colab.research.google.com/github/hibatallahk/ComputerVisionPracticum/blob/main/ComputerVisionPracticum.ipynb\" target=\"_parent\"><img src=\"https://colab.research.google.com/assets/colab-badge.svg\" alt=\"Open In Colab\"/></a>"
      ]
    },
    {
      "cell_type": "markdown",
      "metadata": {
        "id": "Sox6CDsGgw92"
      },
      "source": [
        "# Project description\n",
        "\n",
        "Supermarket chain Good Seed is introducing a computer vision system for\n",
        "processing customer photos. Photofixation in the checkout area will help\n",
        "determine the age of customers in order to:\n",
        "- Analyze purchases and offer products that may interest buyers in\n",
        "particular age groups\n",
        "- Monitor clerks selling alcohol\n",
        "\n",
        "Build a model that will determine the approximate age of a person from a photograph. To help, you'll have a set of photographs of people with their\n",
        "ages indicated.\n",
        "\n",
        "**Project Instructions:** \n",
        "- Analyze the set of photographs.\n",
        "\n",
        "- Prepare the data for training.\n",
        "\n",
        "- Train the neural network and calculate its quality."
      ]
    },
    {
      "cell_type": "code",
      "metadata": {
        "id": "Q8KENdc1g_5X"
      },
      "source": [
        "import numpy as np\n",
        "from tensorflow.keras.applications.resnet import ResNet50\n",
        "from tensorflow.keras.models import Sequential\n",
        "from tensorflow.keras.layers import Conv2D, Flatten, Dense, AveragePooling2D\n",
        "from tensorflow.keras.preprocessing.image import ImageDataGenerator\n",
        "from tensorflow.keras.optimizers import Adam"
      ],
      "execution_count": 1,
      "outputs": []
    },
    {
      "cell_type": "code",
      "source": [
        ""
      ],
      "metadata": {
        "id": "eCGfPhUZMJF5"
      },
      "execution_count": null,
      "outputs": []
    }
  ]
}